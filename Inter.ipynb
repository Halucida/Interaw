{
  "nbformat": 4,
  "nbformat_minor": 0,
  "metadata": {
    "colab": {
      "provenance": []
    },
    "kernelspec": {
      "name": "python3",
      "display_name": "Python 3"
    },
    "language_info": {
      "name": "python"
    }
  },
  "cells": [
    {
      "cell_type": "code",
      "execution_count": null,
      "metadata": {
        "id": "roow3GyyLXyv"
      },
      "outputs": [],
      "source": [
        "import pandas\n",
        "\n",
        "data = pandas.read_table(datapath, delimiter=\",\")\n",
        "\n",
        "data.iloc[:5]"
      ]
    }
  ]
}